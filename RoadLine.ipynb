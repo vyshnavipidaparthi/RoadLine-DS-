{
  "nbformat": 4,
  "nbformat_minor": 0,
  "metadata": {
    "colab": {
      "provenance": []
    },
    "kernelspec": {
      "name": "python3",
      "display_name": "Python 3"
    },
    "language_info": {
      "name": "python"
    }
  },
  "cells": [
    {
      "cell_type": "code",
      "execution_count": 1,
      "metadata": {
        "colab": {
          "base_uri": "https://localhost:8080/"
        },
        "id": "DIWQCWEfGnI9",
        "outputId": "bc89b4cc-1f1f-4d27-ef15-0467cfa8174c"
      },
      "outputs": [
        {
          "output_type": "stream",
          "name": "stdout",
          "text": [
            "Moviepy - Building video output.mp4.\n",
            "Moviepy - Writing video output.mp4\n",
            "\n"
          ]
        },
        {
          "output_type": "stream",
          "name": "stderr",
          "text": [
            "t: 100%|█████████▉| 1295/1297 [00:45<00:00, 32.97it/s, now=None]WARNING:py.warnings:/usr/local/lib/python3.10/dist-packages/moviepy/video/io/ffmpeg_reader.py:123: UserWarning: Warning: in file Video.mp4, 1221120 bytes wanted but 0 bytes read,at frame 1296/1298, at time 25.92/25.94 sec. Using the last valid frame instead.\n",
            "  warnings.warn(\"Warning: in file %s, \"%(self.filename)+\n",
            "\n"
          ]
        },
        {
          "output_type": "stream",
          "name": "stdout",
          "text": [
            "Moviepy - Done !\n",
            "Moviepy - video ready output.mp4\n"
          ]
        }
      ],
      "source": [
        "import numpy as np\n",
        "import cv2\n",
        "from moviepy.editor import VideoFileClip\n",
        "\n",
        "def region_selection(image):\n",
        "    mask = np.zeros_like(image)\n",
        "    if len(image.shape) > 2:\n",
        "        channel_count = image.shape[2]\n",
        "        ignore_mask_color = (255,) * channel_count\n",
        "    else:\n",
        "        ignore_mask_color = 255\n",
        "    rows, cols = image.shape[:2]\n",
        "    bottom_left = [cols * 0.1, rows * 0.95]\n",
        "    top_left = [cols * 0.4, rows * 0.6]\n",
        "    bottom_right = [cols * 0.9, rows * 0.95]\n",
        "    top_right = [cols * 0.6, rows * 0.6]\n",
        "    vertices = np.array([[bottom_left, top_left, top_right, bottom_right]], dtype=np.int32)\n",
        "    cv2.fillPoly(mask, vertices, ignore_mask_color)\n",
        "    masked_image = cv2.bitwise_and(image, mask)\n",
        "    return masked_image\n",
        "\n",
        "def hough_transform(image):\n",
        "    rho = 1\n",
        "    theta = np.pi/180\n",
        "    threshold = 20\n",
        "    minLineLength = 20\n",
        "    maxLineGap = 500\n",
        "    lines = cv2.HoughLinesP(image, rho=rho, theta=theta, threshold=threshold,\n",
        "                            minLineLength=minLineLength, maxLineGap=maxLineGap)\n",
        "    return lines\n",
        "\n",
        "def average_slope_intercept(lines):\n",
        "    if lines is None:\n",
        "        return None, None\n",
        "\n",
        "    left_lines = []\n",
        "    left_weights = []\n",
        "    right_lines = []\n",
        "    right_weights = []\n",
        "\n",
        "    for line in lines:\n",
        "        for x1, y1, x2, y2 in line:\n",
        "            if x1 == x2:\n",
        "                continue\n",
        "            slope = (y2 - y1) / (x2 - x1)\n",
        "            intercept = y1 - (slope * x1)\n",
        "            length = np.sqrt(((y2 - y1) ** 2) + ((x2 - x1) ** 2))\n",
        "            if slope < 0:\n",
        "                left_lines.append((slope, intercept))\n",
        "                left_weights.append(length)\n",
        "            else:\n",
        "                right_lines.append((slope, intercept))\n",
        "                right_weights.append(length)\n",
        "\n",
        "    left_lane = np.dot(left_weights, left_lines) / np.sum(left_weights) if len(left_weights) > 0 else None\n",
        "    right_lane = np.dot(right_weights, right_lines) / np.sum(right_weights) if len(right_weights) > 0 else None\n",
        "    return left_lane, right_lane\n",
        "\n",
        "def pixel_points(y1, y2, line):\n",
        "    if line is None:\n",
        "        return None\n",
        "    slope, intercept = line\n",
        "    x1 = int((y1 - intercept) / slope)\n",
        "    x2 = int((y2 - intercept) / slope)\n",
        "    y1 = int(y1)\n",
        "    y2 = int(y2)\n",
        "    return ((x1, y1), (x2, y2))\n",
        "\n",
        "def lane_lines(image, lines):\n",
        "    left_lane, right_lane = average_slope_intercept(lines)\n",
        "    y1 = image.shape[0]\n",
        "    y2 = y1 * 0.6\n",
        "    left_line = pixel_points(y1, y2, left_lane)\n",
        "    right_line = pixel_points(y1, y2, right_lane)\n",
        "    return left_line, right_line\n",
        "\n",
        "def draw_lane_lines(image, lines, color=[255, 0, 0], thickness=12):\n",
        "    line_image = np.zeros_like(image)\n",
        "    for line in lines:\n",
        "        if line is not None:\n",
        "            cv2.line(line_image, *line, color, thickness)\n",
        "    return cv2.addWeighted(image, 1.0, line_image, 1.0, 0.0)\n",
        "\n",
        "def frame_processor(image):\n",
        "    grayscale = cv2.cvtColor(image, cv2.COLOR_BGR2GRAY)\n",
        "    kernel_size = 5\n",
        "    blur = cv2.GaussianBlur(grayscale, (kernel_size, kernel_size), 0)\n",
        "    low_t = 50\n",
        "    high_t = 150\n",
        "    edges = cv2.Canny(blur, low_t, high_t)\n",
        "    region = region_selection(edges)\n",
        "    hough = hough_transform(region)\n",
        "    result = draw_lane_lines(image, lane_lines(image, hough))\n",
        "    return result\n",
        "\n",
        "def process_video(test_video, output_video):\n",
        "    input_video = VideoFileClip(test_video, audio=False)\n",
        "    processed = input_video.fl_image(frame_processor)\n",
        "    processed.write_videofile(output_video, audio=False)\n",
        "\n",
        "# calling driver function\n",
        "process_video('Video.mp4', 'output.mp4')"
      ]
    }
  ]
}